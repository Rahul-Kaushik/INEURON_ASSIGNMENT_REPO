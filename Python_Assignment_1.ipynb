{
  "nbformat": 4,
  "nbformat_minor": 0,
  "metadata": {
    "colab": {
      "name": "Python_Assignment_1.ipynb",
      "provenance": [],
      "collapsed_sections": []
    },
    "kernelspec": {
      "name": "python3",
      "display_name": "Python 3"
    }
  },
  "cells": [
    {
      "cell_type": "code",
      "metadata": {
        "id": "0c_PpdkvsW4o"
      },
      "source": [
        ""
      ],
      "execution_count": null,
      "outputs": []
    },
    {
      "cell_type": "markdown",
      "metadata": {
        "id": "O0IqEkJHsfX0"
      },
      "source": [
        "### Q1: Write a program which will find all such numbers which are divisible by 7 but are not a multiple of 5, between 2000 and 3200 (both included).The numbers should be printed in a comma separted sequence on a single line\r\n"
      ]
    },
    {
      "cell_type": "code",
      "metadata": {
        "colab": {
          "base_uri": "https://localhost:8080/"
        },
        "id": "2i_HIC7ZswzX",
        "outputId": "faf85566-ce67-48e7-f661-d8e3cf4c3fb8"
      },
      "source": [
        "#a=2000\r\n",
        "#b=3201\r\n",
        "list_1=[]\r\n",
        "\r\n",
        "for i in range(2000,3201):\r\n",
        "  if(i%7==0 and i%5!=0): # any number which is not completely divisible by 5 is not a multiple of 5\r\n",
        "    list_1.append(i)\r\n",
        "item=str(list_1) # we are converting to string so that we can apply strip function to remove the braces later \r\n",
        "print(list_1)"
      ],
      "execution_count": 13,
      "outputs": [
        {
          "output_type": "stream",
          "text": [
            "[2002, 2009, 2016, 2023, 2037, 2044, 2051, 2058, 2072, 2079, 2086, 2093, 2107, 2114, 2121, 2128, 2142, 2149, 2156, 2163, 2177, 2184, 2191, 2198, 2212, 2219, 2226, 2233, 2247, 2254, 2261, 2268, 2282, 2289, 2296, 2303, 2317, 2324, 2331, 2338, 2352, 2359, 2366, 2373, 2387, 2394, 2401, 2408, 2422, 2429, 2436, 2443, 2457, 2464, 2471, 2478, 2492, 2499, 2506, 2513, 2527, 2534, 2541, 2548, 2562, 2569, 2576, 2583, 2597, 2604, 2611, 2618, 2632, 2639, 2646, 2653, 2667, 2674, 2681, 2688, 2702, 2709, 2716, 2723, 2737, 2744, 2751, 2758, 2772, 2779, 2786, 2793, 2807, 2814, 2821, 2828, 2842, 2849, 2856, 2863, 2877, 2884, 2891, 2898, 2912, 2919, 2926, 2933, 2947, 2954, 2961, 2968, 2982, 2989, 2996, 3003, 3017, 3024, 3031, 3038, 3052, 3059, 3066, 3073, 3087, 3094, 3101, 3108, 3122, 3129, 3136, 3143, 3157, 3164, 3171, 3178, 3192, 3199]\n"
          ],
          "name": "stdout"
        }
      ]
    },
    {
      "cell_type": "code",
      "metadata": {
        "colab": {
          "base_uri": "https://localhost:8080/"
        },
        "id": "MmSSeXZEvGVz",
        "outputId": "6ce5fc34-0d81-4979-e9a6-136f06872023"
      },
      "source": [
        "print(str(list_1).strip(\"[]\")) # strip function will remove the first and last brackets"
      ],
      "execution_count": 14,
      "outputs": [
        {
          "output_type": "stream",
          "text": [
            "2002, 2009, 2016, 2023, 2037, 2044, 2051, 2058, 2072, 2079, 2086, 2093, 2107, 2114, 2121, 2128, 2142, 2149, 2156, 2163, 2177, 2184, 2191, 2198, 2212, 2219, 2226, 2233, 2247, 2254, 2261, 2268, 2282, 2289, 2296, 2303, 2317, 2324, 2331, 2338, 2352, 2359, 2366, 2373, 2387, 2394, 2401, 2408, 2422, 2429, 2436, 2443, 2457, 2464, 2471, 2478, 2492, 2499, 2506, 2513, 2527, 2534, 2541, 2548, 2562, 2569, 2576, 2583, 2597, 2604, 2611, 2618, 2632, 2639, 2646, 2653, 2667, 2674, 2681, 2688, 2702, 2709, 2716, 2723, 2737, 2744, 2751, 2758, 2772, 2779, 2786, 2793, 2807, 2814, 2821, 2828, 2842, 2849, 2856, 2863, 2877, 2884, 2891, 2898, 2912, 2919, 2926, 2933, 2947, 2954, 2961, 2968, 2982, 2989, 2996, 3003, 3017, 3024, 3031, 3038, 3052, 3059, 3066, 3073, 3087, 3094, 3101, 3108, 3122, 3129, 3136, 3143, 3157, 3164, 3171, 3178, 3192, 3199\n"
          ],
          "name": "stdout"
        }
      ]
    },
    {
      "cell_type": "markdown",
      "metadata": {
        "id": "8r25_Sv0BY6l"
      },
      "source": [
        "### Q2. Write a Python program to accept the user's first and last name and then getting them printed in the reverse order with a space between first name and last name"
      ]
    },
    {
      "cell_type": "code",
      "metadata": {
        "colab": {
          "base_uri": "https://localhost:8080/"
        },
        "id": "uPUV9yicBj0-",
        "outputId": "7e9c5c95-a6e2-4edb-ac0b-5fcd9875921d"
      },
      "source": [
        "first_name=[]\r\n",
        "last_name=[]\r\n",
        "\r\n",
        "first_name=str(input(\"enter your first name:\"))\r\n",
        "\r\n",
        "last_name=str(input(\"enter your Last Name:\"))\r\n",
        "\r\n",
        "Full_name=first_name + \" \" + last_name\r\n",
        "\r\n",
        "print(f\"your name is : {Full_name}\")\r\n",
        "Reverse_name=Full_name[::-1]\r\n",
        "print(f\"Your reversed name is: {Reverse_name}\")"
      ],
      "execution_count": 33,
      "outputs": [
        {
          "output_type": "stream",
          "text": [
            "enter your first name:Rahul\n",
            "enter your Last Name:Kaushik\n",
            "your name is : Rahul Kaushik\n",
            "Your reversed name is: kihsuaK luhaR\n"
          ],
          "name": "stdout"
        }
      ]
    },
    {
      "cell_type": "code",
      "metadata": {
        "id": "h8r_VN10Noac"
      },
      "source": [
        "# Below is the another mehod to print reverse character wise \r\n",
        "# first_name=[]\r\n",
        "# last_name=[]\r\n",
        "\r\n",
        "# first_name=str(input(\"enter your first name:\"))\r\n",
        "\r\n",
        "# last_name=str(input(\"enter your Last Name:\"))\r\n",
        "\r\n",
        "# Full_name=first_name + \" \" + last_name # combine both first name list and last name list\r\n",
        "\r\n",
        "# print(f\"your name is : {Full_name}\") # print the full name in straight forward\r\n",
        "\r\n",
        "# x=-1\r\n",
        "# reversed_name=[]\r\n",
        "# for i in Full_name:\r\n",
        "#   reversed_name.append(Full_name[x])\r\n",
        "#   x+=-1 # x = x + [-1] same\r\n",
        "# print(reversed_name) \r\n",
        "\r\n",
        "\r\n"
      ],
      "execution_count": 36,
      "outputs": []
    },
    {
      "cell_type": "markdown",
      "metadata": {
        "id": "KsvLB-dbQABT"
      },
      "source": [
        "### Q3.Write a Python program to find the volume of a sphere with diameter 12 cm.Formula: V=4/3 * π * r 3"
      ]
    },
    {
      "cell_type": "code",
      "metadata": {
        "colab": {
          "base_uri": "https://localhost:8080/"
        },
        "id": "pTnmEAfIPG8c",
        "outputId": "8d68ac32-9774-4132-9b44-1455bc20a49b"
      },
      "source": [
        "import numpy as np\r\n",
        "def sphere_vol(radius,d=12):\r\n",
        "  radius=d/2\r\n",
        "  volume=4/3 * np.pi *(radius**3)\r\n",
        "  return volume\r\n",
        "\r\n",
        "sphere_vol(3)"
      ],
      "execution_count": 41,
      "outputs": [
        {
          "output_type": "execute_result",
          "data": {
            "text/plain": [
              "904.7786842338603"
            ]
          },
          "metadata": {
            "tags": []
          },
          "execution_count": 41
        }
      ]
    },
    {
      "cell_type": "code",
      "metadata": {
        "id": "_9ZlOWh9dpXU"
      },
      "source": [
        ""
      ],
      "execution_count": null,
      "outputs": []
    }
  ]
}