{
  "nbformat": 4,
  "nbformat_minor": 0,
  "metadata": {
    "colab": {
      "name": "Python_Assignment_2.ipynb",
      "provenance": []
    },
    "kernelspec": {
      "name": "python3",
      "display_name": "Python 3"
    }
  },
  "cells": [
    {
      "cell_type": "code",
      "metadata": {
        "colab": {
          "base_uri": "https://localhost:8080/"
        },
        "id": "R8yGHEJ11DvF",
        "outputId": "70002af0-d6db-4249-f683-c8614c200cec"
      },
      "source": [
        "i=1\n",
        "while i <=5:\n",
        "  j=1\n",
        "  while j<=i:\n",
        "    print(\"*\",end=\" \")\n",
        "    j=j+1\n",
        "  print()\n",
        "  i=i+1\n",
        "for i in range(5, -1,-1 ):\n",
        "          for j in range(0, i + 1):\n",
        "               print(\"* \", end=\"\")\n",
        "          print(\"\\r\")"
      ],
      "execution_count": 4,
      "outputs": [
        {
          "output_type": "stream",
          "text": [
            "* \n",
            "* * \n",
            "* * * \n",
            "* * * * \n",
            "* * * * * \n",
            "* * * * * * \r\n",
            "* * * * * \r\n",
            "* * * * \r\n",
            "* * * \r\n",
            "* * \r\n",
            "* \r\n"
          ],
          "name": "stdout"
        }
      ]
    },
    {
      "cell_type": "markdown",
      "metadata": {
        "id": "jjnKww65GXxF"
      },
      "source": [
        ""
      ]
    },
    {
      "cell_type": "code",
      "metadata": {
        "colab": {
          "base_uri": "https://localhost:8080/"
        },
        "id": "XfAaqOfadF32",
        "outputId": "1e71ff25-4b55-47f4-9675-e0de024d736e"
      },
      "source": [
        "string=str(input(\"Enter the String:\"))\r\n",
        "print(\"Entered string is %s:\" %(string))\r\n",
        "reverse=[]\r\n",
        "index=1\r\n",
        "print(\"The Reversed String is:\")\r\n",
        "while index<=len(string):\r\n",
        "  \r\n",
        "  print(string[-index],end=\"\")\r\n",
        "  index=index+1\r\n"
      ],
      "execution_count": 31,
      "outputs": [
        {
          "output_type": "stream",
          "text": [
            "Enter the String:ineuron\n",
            "Entered string is ineuron:\n",
            "The Reversed String is:\n",
            "norueni"
          ],
          "name": "stdout"
        }
      ]
    },
    {
      "cell_type": "code",
      "metadata": {
        "id": "tC-__FKPnndD"
      },
      "source": [
        ""
      ],
      "execution_count": 13,
      "outputs": []
    }
  ]
}